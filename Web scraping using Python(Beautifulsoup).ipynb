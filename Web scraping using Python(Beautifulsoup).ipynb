{
 "cells": [
  {
   "cell_type": "markdown",
   "metadata": {},
   "source": [
    "### Retriving Job title, location in Monter.com"
   ]
  },
  {
   "cell_type": "code",
   "execution_count": 212,
   "metadata": {},
   "outputs": [],
   "source": [
    "import requests\n",
    "from bs4 import BeautifulSoup\n",
    "import pandas as pd"
   ]
  },
  {
   "cell_type": "code",
   "execution_count": 294,
   "metadata": {},
   "outputs": [],
   "source": [
    "URL = 'https://www.monster.com/jobs/search/?q=Software-Developer&where=Australia'\n",
    "page = requests.get(URL)"
   ]
  },
  {
   "cell_type": "code",
   "execution_count": 3,
   "metadata": {},
   "outputs": [
    {
     "ename": "NameError",
     "evalue": "name 'page' is not defined",
     "output_type": "error",
     "traceback": [
      "\u001b[1;31m---------------------------------------------------------------------------\u001b[0m",
      "\u001b[1;31mNameError\u001b[0m                                 Traceback (most recent call last)",
      "\u001b[1;32m<ipython-input-3-1bb34724118a>\u001b[0m in \u001b[0;36m<module>\u001b[1;34m\u001b[0m\n\u001b[1;32m----> 1\u001b[1;33m \u001b[0mprint\u001b[0m\u001b[1;33m(\u001b[0m\u001b[0mpage\u001b[0m\u001b[1;33m.\u001b[0m\u001b[0mcontent\u001b[0m\u001b[1;33m)\u001b[0m\u001b[1;33m\u001b[0m\u001b[1;33m\u001b[0m\u001b[0m\n\u001b[0m",
      "\u001b[1;31mNameError\u001b[0m: name 'page' is not defined"
     ]
    }
   ],
   "source": [
    "#print(page.content)"
   ]
  },
  {
   "cell_type": "code",
   "execution_count": 215,
   "metadata": {},
   "outputs": [],
   "source": [
    "soup = BeautifulSoup(page.content, 'html.parser')"
   ]
  },
  {
   "cell_type": "code",
   "execution_count": 216,
   "metadata": {},
   "outputs": [],
   "source": [
    "results = soup.find(id='ResultsContainer')"
   ]
  },
  {
   "cell_type": "code",
   "execution_count": 217,
   "metadata": {},
   "outputs": [
    {
     "name": "stdout",
     "output_type": "stream",
     "text": [
      "<div class=\"mux-custom-scroll\" data-extend=\"left\" data-mux=\"customScroll\" data-target=\"html\" id=\"ResultsContainer\">\n",
      " <div class=\"scrollable\" id=\"ResultsScrollable\">\n",
      "  <script type=\"application/ld+json\">\n",
      "   {\"@context\":\"https://schema.org\",\"@type\":\"ItemList\",\"mainEntityOfPage\":{\r\n",
      "            \"@type\":\"CollectionPage\",\"@id\":\"https://www.monster.com/jobs/search/?q=Software-Developer&amp;where=Australia\"\r\n",
      "            }\r\n",
      "            ,\"itemListElement\":[\r\n",
      "\r\n",
      "                 {\"@type\":\"ListItem\",\"position\":1,\"url\":\"https://job-openings.monster.com/sql-bi-ssrs-ssis-developer-for-blackboard-nyc-new-york-wa-us-lancesoft-inc/56d17f16-f07d-4271-abda-b80155837c80\"}\r\n",
      "                    ,\r\n",
      "                 {\"@type\":\"ListItem\",\"position\":2,\"url\":\"\"}\r\n",
      "                    ,\r\n",
      "                 {\"@type\":\"ListItem\",\"position\":3,\"url\":\"https://job-openings.monster.com/python-developer-woodlands-wa-us-lancesoft-inc/4755ec59-d0db-4ce9-8385-b4df7c1e9f7c\"}\r\n",
      "                    ,\r\n",
      "                 {\"@type\":\"ListItem\",\"position\":4,\"url\":\"https://job-openings.monster.com/junior-qa-analyst-melbourne-victoria-melbourne-vic-us-mediaocean/fcb03051-f03f-4d58-8198-09bcd25371db\"}\r\n",
      "                    ,\r\n",
      "                 {\"@type\":\"ListItem\",\"position\":5,\"url\":\"https://job-openings.monster.com/test-analyst-canberra-act-us-dialog-group/ee860a5c-6a41-4b89-8d62-5c01e92fa28b\"}\r\n",
      "                    ,\r\n",
      "                 {\"@type\":\"ListItem\",\"position\":6,\"url\":\"https://job-openings.monster.com/senior-sales-engineer-melbourne-vic-us-zuora/b12d72ea-3114-4615-8534-ce9a2f2cbb66\"}\r\n",
      "                    ,\r\n",
      "                 {\"@type\":\"ListItem\",\"position\":7,\"url\":\"https://job-openings.monster.com/enterprise-account-executive-melbourne-vic-us-zuora/6a353fab-1b46-4823-ab6e-d0417a41cc97\"}\r\n",
      "                    ,\r\n",
      "                 {\"@type\":\"ListItem\",\"position\":8,\"url\":\"\"}\r\n",
      "                    ,\r\n",
      "                 {\"@type\":\"ListItem\",\"position\":9,\"url\":\"https://job-openings.monster.com/account-manager-canberra-act-us-dialog-group/2f107225-7a3f-4635-9933-ae54c229e903\"}\r\n",
      "                    ,\r\n",
      "                 {\"@type\":\"ListItem\",\"position\":10,\"url\":\"https://job-openings.monster.com/customer-experience-technical-analyst-sydney-new-south-wales-sydney-nsw-us-mediaocean/009c9418-f3f2-489e-b1fd-12b5189ff204\"}\r\n",
      "                    ,\r\n",
      "                 {\"@type\":\"ListItem\",\"position\":11,\"url\":\"https://job-openings.monster.com/test-analyst-senior-test-analyst-melbourne-vic-us-dialog-group/09e05fe9-27f2-46bf-8c2f-7398f155b583\"}\r\n",
      "                    ,\r\n",
      "                 {\"@type\":\"ListItem\",\"position\":12,\"url\":\"https://job-openings.monster.com/senior-practice-manager-ies-wa-new-york-wa-us-blue-ocean-ventures/dceff465-7b62-4307-98eb-92caaa724500\"}\r\n",
      "                    ,\r\n",
      "                 {\"@type\":\"ListItem\",\"position\":13,\"url\":\"https://job-openings.monster.com/software-development-engineer-software-developer-new-initiative-project-from-t-seattle-wa-us-amazon-corporate-llc/216594297\"}\r\n",
      "            ]}\n",
      "  </script>\n",
      "  <script>\n",
      "   function lockScroll() {\r\n",
      "            var lockX = window.scrollX;\r\n",
      "            var lockY = window.scrollY;\r\n",
      "\r\n",
      "            function lockIt() {\r\n",
      "                window.scrollTo(lockX, lockY);\r\n",
      "                return false;\r\n",
      "            }\r\n",
      "\r\n",
      "            window.addEventListener(\"scroll\", lockIt, false);\r\n",
      "            return {\r\n",
      "                stop: function () {\r\n",
      "                    window.removeEventListener(\"scroll\", lockIt, false);\r\n",
      "                }\r\n",
      "            }\r\n",
      "        }\r\n",
      "        window.addEventListener(\"load\", function () {\r\n",
      "            $('#ResultsScrollable').bind(\"scroll\", function () {\r\n",
      "                if ($(this).scrollTop() + $(this).innerHeight() >= $(this)[0].scrollHeight) {\r\n",
      "                    var locker = lockScroll();\r\n",
      "                    var loadBtn = document.getElementById('loadMoreJobs');\r\n",
      "                    if (loadBtn) loadBtn.click();\r\n",
      "                    locker.stop();\r\n",
      "                }\r\n",
      "            });\r\n",
      "        });\n",
      "  </script>\n",
      "  <style>\n",
      "   #loadMoreJobs {\r\n",
      "            display: none;\r\n",
      "        }\n",
      "  </style>\n",
      "  <div class=\"mux-apas-ads\" data-ads='[{\"sizes\":[1,1],\"placementId\":14162549,\"id\":\"bad1\"},{\"sizes\":[1,1],\"placementId\":14343737,\"id\":\"bad2\"}]' data-config='{\"targeting\":{\"Site\":\"United States\",\"mURL\":\"https%3a%2f%2fwww.monster.com%2fjobs%2fsearch%2f%3fq%3dSoftware-Developer%26where%3dAustralia\",\"Page\":\"Job Search Results\",\"mesco\":[1700192001001,4100683001001]},\"member\":3525}' data-mux=\"apasAds\">\n",
      "  </div>\n",
      "  <div class=\"mux-search-results\" data-content-target=\"#JobPreview\" data-emulated-click-attr=\"coretrackclickauto\" data-is-dynamic=\"true\" data-jhash-size=\"10\" data-jhash-url=\"https://www.monster.com/jobs/search/jhpagination?q=Software-Developer&amp;where=Australia\" data-jv-non-job-content=\"-1\" data-mux=\"searchResults\" data-results-max=\"250\" data-results-page=\"1\" data-results-per-page=\"25\" data-results-placeholder=\"job-item-placeholder-template\" data-results-target=\"#SearchResults\" data-results-template=\"job-item-template\" data-results-total=\"10\" data-results-url=\"https://www.monster.com/jobs/search/pagination/?q=Software-Developer&amp;where=Australia&amp;isDynamicPage=true&amp;isMKPagination=true\" data-total-search-results=\"10\">\n",
      "   <div class=\"mux-card mux-job-card\" id=\"SearchResults\">\n",
      "    <section class=\"card-content \" data-jobid=\"56d17f16-f07d-4271-abda-b80155837c80\" onclick=\"MKImpressionTrackingMouseDownHijack(this, event)\">\n",
      "     <div class=\"flex-row\">\n",
      "      <div class=\"mux-company-logo thumbnail is-loaded\">\n",
      "       <img alt=\"LanceSoft Inc\" src=\"https://media.newjobs.com/clu/xlan/xlancesinx/branding/164991/LanceSoft-Inc-logo.png\"/>\n",
      "      </div>\n",
      "      <div class=\"summary\">\n",
      "       <header class=\"card-header\">\n",
      "        <h2 class=\"title\">\n",
      "         <a data-bypass=\"true\" data-m_impr_a_placement_id=\"JSR2CW\" data-m_impr_j_cid=\"10\" data-m_impr_j_coc=\"\" data-m_impr_j_jawsid=\"359506666\" data-m_impr_j_jobid=\"0\" data-m_impr_j_jpm=\"2\" data-m_impr_j_jpt=\"3\" data-m_impr_j_lat=\"40.75\" data-m_impr_j_lid=\"550\" data-m_impr_j_long=\"-73.9967\" data-m_impr_j_occid=\"11709\" data-m_impr_j_p=\"1\" data-m_impr_j_postingid=\"56d17f16-f07d-4271-abda-b80155837c80\" data-m_impr_j_pvc=\"4496dab8-a60c-4f02-a2d1-6213320e7213\" data-m_impr_s_t=\"t\" data-m_impr_uuid=\"33b6ce3f-2e63-4619-b360-44c36f2fa3ff\" href=\"https://job-openings.monster.com/sql-bi-ssrs-ssis-developer-for-blackboard-nyc-new-york-wa-us-lancesoft-inc/56d17f16-f07d-4271-abda-b80155837c80\" onclick=\"clickJobTitle('plid=550&amp;pcid=10&amp;poccid=11709','Software Developer',''); clickJobTitleSiteCat('{&quot;events.event48&quot;:&quot;true&quot;,&quot;eVar25&quot;:&quot;SQL BI (SSRS, SSIS) developer for Blackboard - NYC&quot;,&quot;eVar66&quot;:&quot;Monster&quot;,&quot;eVar67&quot;:&quot;JSR2CW&quot;,&quot;eVar26&quot;:&quot;_LanceSoft Inc&quot;,&quot;eVar31&quot;:&quot;New york_WA_&quot;,&quot;prop24&quot;:&quot;2019-07-02T12:00&quot;,&quot;eVar53&quot;:&quot;1500127001001&quot;,&quot;eVar50&quot;:&quot;Aggregated&quot;,&quot;eVar74&quot;:&quot;logo&quot;}')\">\n",
      "          SQL BI (SSRS, SSIS) developer for Blackboard - NYC\n",
      "         </a>\n",
      "        </h2>\n",
      "       </header>\n",
      "       <div class=\"company\">\n",
      "        <span class=\"name\">\n",
      "         LanceSoft Inc\n",
      "        </span>\n",
      "        <ul class=\"list-inline\">\n",
      "        </ul>\n",
      "       </div>\n",
      "       <div class=\"location\">\n",
      "        <span class=\"name\">\n",
      "         New york, WA\n",
      "        </span>\n",
      "       </div>\n",
      "      </div>\n",
      "      <div class=\"meta flex-col\">\n",
      "       <time datetime=\"2017-05-26T12:00\">\n",
      "        +30 days ago\n",
      "       </time>\n",
      "       <span class=\"mux-tooltip applied-only\" data-mux=\"tooltip\" title=\"Applied\">\n",
      "        <i aria-hidden=\"true\" class=\"icon icon-applied\">\n",
      "        </i>\n",
      "        <span class=\"sr-only\">\n",
      "         Applied\n",
      "        </span>\n",
      "       </span>\n",
      "       <span class=\"mux-tooltip saved-only\" data-mux=\"tooltip\" title=\"Saved\">\n",
      "        <i aria-hidden=\"true\" class=\"icon icon-saved\">\n",
      "        </i>\n",
      "        <span class=\"sr-only\">\n",
      "         Saved\n",
      "        </span>\n",
      "       </span>\n",
      "      </div>\n",
      "     </div>\n",
      "    </section>\n",
      "    <section class=\"card-content apas-ad\" data-mux=\"searchResultsAds\" style=\"display:none\">\n",
      "     <div id=\"bad1\">\n",
      "     </div>\n",
      "    </section>\n",
      "    <section class=\"card-content \" data-jobid=\"4755ec59-d0db-4ce9-8385-b4df7c1e9f7c\" onclick=\"MKImpressionTrackingMouseDownHijack(this, event)\">\n",
      "     <div class=\"flex-row\">\n",
      "      <div class=\"mux-company-logo thumbnail is-loaded\">\n",
      "       <img alt=\"LanceSoft Inc\" src=\"https://media.newjobs.com/clu/xlan/xlancesinx/branding/164991/LanceSoft-Inc-logo.png\"/>\n",
      "      </div>\n",
      "      <div class=\"summary\">\n",
      "       <header class=\"card-header\">\n",
      "        <h2 class=\"title\">\n",
      "         <a data-bypass=\"true\" data-m_impr_a_placement_id=\"JSR2CW\" data-m_impr_j_cid=\"4\" data-m_impr_j_coc=\"\" data-m_impr_j_jawsid=\"371676273\" data-m_impr_j_jobid=\"0\" data-m_impr_j_jpm=\"2\" data-m_impr_j_jpt=\"3\" data-m_impr_j_lat=\"30.1882\" data-m_impr_j_lid=\"619\" data-m_impr_j_long=\"-95.6732\" data-m_impr_j_occid=\"11838\" data-m_impr_j_p=\"2\" data-m_impr_j_postingid=\"4755ec59-d0db-4ce9-8385-b4df7c1e9f7c\" data-m_impr_j_pvc=\"4496dab8-a60c-4f02-a2d1-6213320e7213\" data-m_impr_s_t=\"t\" data-m_impr_uuid=\"78fb67b3-2f52-4c2d-a99b-10e17774169e\" href=\"https://job-openings.monster.com/python-developer-woodlands-wa-us-lancesoft-inc/4755ec59-d0db-4ce9-8385-b4df7c1e9f7c\" onclick=\"clickJobTitle('plid=619&amp;pcid=4&amp;poccid=11838','Software Developer',''); clickJobTitleSiteCat('{&quot;events.event48&quot;:&quot;true&quot;,&quot;eVar25&quot;:&quot;Python Developer&quot;,&quot;eVar66&quot;:&quot;Monster&quot;,&quot;eVar67&quot;:&quot;JSR2CW&quot;,&quot;eVar26&quot;:&quot;_LanceSoft Inc&quot;,&quot;eVar31&quot;:&quot;Woodlands_WA_&quot;,&quot;prop24&quot;:&quot;2019-07-02T12:00&quot;,&quot;eVar53&quot;:&quot;1500127001001&quot;,&quot;eVar50&quot;:&quot;Aggregated&quot;,&quot;eVar74&quot;:&quot;logo&quot;}')\">\n",
      "          Python Developer\n",
      "         </a>\n",
      "        </h2>\n",
      "       </header>\n",
      "       <div class=\"company\">\n",
      "        <span class=\"name\">\n",
      "         LanceSoft Inc\n",
      "        </span>\n",
      "        <ul class=\"list-inline\">\n",
      "        </ul>\n",
      "       </div>\n",
      "       <div class=\"location\">\n",
      "        <span class=\"name\">\n",
      "         Woodlands, WA\n",
      "        </span>\n",
      "       </div>\n",
      "      </div>\n",
      "      <div class=\"meta flex-col\">\n",
      "       <time datetime=\"2017-05-26T12:00\">\n",
      "        +30 days ago\n",
      "       </time>\n",
      "       <span class=\"mux-tooltip applied-only\" data-mux=\"tooltip\" title=\"Applied\">\n",
      "        <i aria-hidden=\"true\" class=\"icon icon-applied\">\n",
      "        </i>\n",
      "        <span class=\"sr-only\">\n",
      "         Applied\n",
      "        </span>\n",
      "       </span>\n",
      "       <span class=\"mux-tooltip saved-only\" data-mux=\"tooltip\" title=\"Saved\">\n",
      "        <i aria-hidden=\"true\" class=\"icon icon-saved\">\n",
      "        </i>\n",
      "        <span class=\"sr-only\">\n",
      "         Saved\n",
      "        </span>\n",
      "       </span>\n",
      "      </div>\n",
      "     </div>\n",
      "    </section>\n",
      "    <section class=\"card-content \" data-jobid=\"fcb03051-f03f-4d58-8198-09bcd25371db\" onclick=\"MKImpressionTrackingMouseDownHijack(this, event)\">\n",
      "     <div class=\"flex-row\">\n",
      "      <div class=\"mux-company-logo thumbnail is-loaded\">\n",
      "       <img alt=\"Mediaocean\" src=\"https://coda.newjobs.com/api/imagesproxy/ms/mm/xmediaoceanx/cjt/logo.jpg\"/>\n",
      "      </div>\n",
      "      <div class=\"summary\">\n",
      "       <header class=\"card-header\">\n",
      "        <h2 class=\"title\">\n",
      "         <a data-bypass=\"true\" data-m_impr_a_placement_id=\"JSR2CW\" data-m_impr_j_cid=\"4\" data-m_impr_j_coc=\"\" data-m_impr_j_jawsid=\"418231710\" data-m_impr_j_jobid=\"517148\" data-m_impr_j_jpm=\"2\" data-m_impr_j_jpt=\"3\" data-m_impr_j_lat=\"0\" data-m_impr_j_lid=\"0\" data-m_impr_j_long=\"0\" data-m_impr_j_occid=\"11838\" data-m_impr_j_p=\"3\" data-m_impr_j_postingid=\"fcb03051-f03f-4d58-8198-09bcd25371db\" data-m_impr_j_pvc=\"6232df37-d6a8-4d8d-8427-26e9c9101837\" data-m_impr_s_t=\"t\" data-m_impr_uuid=\"7c6bdecf-8799-48db-9e68-ec25ed918d35\" href=\"https://job-openings.monster.com/junior-qa-analyst-melbourne-victoria-melbourne-vic-us-mediaocean/fcb03051-f03f-4d58-8198-09bcd25371db\" onclick=\"clickJobTitle('plid=0&amp;pcid=4&amp;poccid=11838','Software Developer',''); clickJobTitleSiteCat('{&quot;events.event48&quot;:&quot;true&quot;,&quot;eVar25&quot;:&quot;Junior QA Analyst - Melbourne, Victoria&quot;,&quot;eVar66&quot;:&quot;Monster&quot;,&quot;eVar67&quot;:&quot;JSR2CW&quot;,&quot;eVar26&quot;:&quot;_Mediaocean&quot;,&quot;eVar31&quot;:&quot;Melbourne_VIC_&quot;,&quot;prop24&quot;:&quot;2020-01-17T12:00&quot;,&quot;eVar53&quot;:&quot;1700192001001&quot;,&quot;eVar50&quot;:&quot;Aggregated&quot;,&quot;eVar74&quot;:&quot;logo&quot;}')\">\n",
      "          Junior QA Analyst - Melbourne, Victoria\n",
      "         </a>\n",
      "        </h2>\n",
      "       </header>\n",
      "       <div class=\"company\">\n",
      "        <span class=\"name\">\n",
      "         Mediaocean\n",
      "        </span>\n",
      "        <ul class=\"list-inline\">\n",
      "        </ul>\n",
      "       </div>\n",
      "       <div class=\"location\">\n",
      "        <span class=\"name\">\n",
      "         Melbourne, VIC\n",
      "        </span>\n",
      "       </div>\n",
      "      </div>\n",
      "      <div class=\"meta flex-col\">\n",
      "       <time datetime=\"2017-05-26T12:00\">\n",
      "        +30 days ago\n",
      "       </time>\n",
      "       <span class=\"mux-tooltip applied-only\" data-mux=\"tooltip\" title=\"Applied\">\n",
      "        <i aria-hidden=\"true\" class=\"icon icon-applied\">\n",
      "        </i>\n",
      "        <span class=\"sr-only\">\n",
      "         Applied\n",
      "        </span>\n",
      "       </span>\n",
      "       <span class=\"mux-tooltip saved-only\" data-mux=\"tooltip\" title=\"Saved\">\n",
      "        <i aria-hidden=\"true\" class=\"icon icon-saved\">\n",
      "        </i>\n",
      "        <span class=\"sr-only\">\n",
      "         Saved\n",
      "        </span>\n",
      "       </span>\n",
      "      </div>\n",
      "     </div>\n",
      "    </section>\n",
      "    <section class=\"card-content \" data-jobid=\"ee860a5c-6a41-4b89-8d62-5c01e92fa28b\" onclick=\"MKImpressionTrackingMouseDownHijack(this, event)\">\n",
      "     <div class=\"flex-row\">\n",
      "      <div class=\"mux-company-logo thumbnail\">\n",
      "      </div>\n",
      "      <div class=\"summary\">\n",
      "       <header class=\"card-header\">\n",
      "        <h2 class=\"title\">\n",
      "         <a data-bypass=\"true\" data-m_impr_a_placement_id=\"JSR2CW\" data-m_impr_j_cid=\"4\" data-m_impr_j_coc=\"\" data-m_impr_j_jawsid=\"428017743\" data-m_impr_j_jobid=\"13350083\" data-m_impr_j_jpm=\"2\" data-m_impr_j_jpt=\"3\" data-m_impr_j_lat=\"0\" data-m_impr_j_lid=\"0\" data-m_impr_j_long=\"0\" data-m_impr_j_occid=\"11838\" data-m_impr_j_p=\"4\" data-m_impr_j_postingid=\"ee860a5c-6a41-4b89-8d62-5c01e92fa28b\" data-m_impr_j_pvc=\"cec47324-719f-422e-89c2-4119fbb22642\" data-m_impr_s_t=\"t\" data-m_impr_uuid=\"1b4f1209-f43c-41d2-910c-1783adf2e268\" href=\"https://job-openings.monster.com/test-analyst-canberra-act-us-dialog-group/ee860a5c-6a41-4b89-8d62-5c01e92fa28b\" onclick=\"clickJobTitle('plid=0&amp;pcid=4&amp;poccid=11838','Software Developer',''); clickJobTitleSiteCat('{&quot;events.event48&quot;:&quot;true&quot;,&quot;eVar25&quot;:&quot;Test Analyst&quot;,&quot;eVar66&quot;:&quot;Monster&quot;,&quot;eVar67&quot;:&quot;JSR2CW&quot;,&quot;eVar26&quot;:&quot;_Dialog Group&quot;,&quot;eVar31&quot;:&quot;Canberra_ACT_&quot;,&quot;prop24&quot;:&quot;2020-03-24T12:00&quot;,&quot;eVar53&quot;:&quot;1700192001001&quot;,&quot;eVar50&quot;:&quot;Aggregated&quot;,&quot;eVar74&quot;:&quot;regular&quot;}')\">\n",
      "          Test Analyst\n",
      "         </a>\n",
      "        </h2>\n",
      "       </header>\n",
      "       <div class=\"company\">\n",
      "        <span class=\"name\">\n",
      "         Dialog Group\n",
      "        </span>\n",
      "        <ul class=\"list-inline\">\n",
      "        </ul>\n",
      "       </div>\n",
      "       <div class=\"location\">\n",
      "        <span class=\"name\">\n",
      "         Canberra, ACT\n",
      "        </span>\n",
      "       </div>\n",
      "      </div>\n",
      "      <div class=\"meta flex-col\">\n",
      "       <time datetime=\"2017-05-26T12:00\">\n",
      "        +30 days ago\n",
      "       </time>\n",
      "       <span class=\"mux-tooltip applied-only\" data-mux=\"tooltip\" title=\"Applied\">\n",
      "        <i aria-hidden=\"true\" class=\"icon icon-applied\">\n",
      "        </i>\n",
      "        <span class=\"sr-only\">\n",
      "         Applied\n",
      "        </span>\n",
      "       </span>\n",
      "       <span class=\"mux-tooltip saved-only\" data-mux=\"tooltip\" title=\"Saved\">\n",
      "        <i aria-hidden=\"true\" class=\"icon icon-saved\">\n",
      "        </i>\n",
      "        <span class=\"sr-only\">\n",
      "         Saved\n",
      "        </span>\n",
      "       </span>\n",
      "      </div>\n",
      "     </div>\n",
      "    </section>\n",
      "    <section class=\"card-content \" data-jobid=\"b12d72ea-3114-4615-8534-ce9a2f2cbb66\" onclick=\"MKImpressionTrackingMouseDownHijack(this, event)\">\n",
      "     <div class=\"flex-row\">\n",
      "      <div class=\"mux-company-logo thumbnail\">\n",
      "      </div>\n",
      "      <div class=\"summary\">\n",
      "       <header class=\"card-header\">\n",
      "        <h2 class=\"title\">\n",
      "         <a data-bypass=\"true\" data-m_impr_a_placement_id=\"JSR2CW\" data-m_impr_j_cid=\"10\" data-m_impr_j_coc=\"\" data-m_impr_j_jawsid=\"430125936\" data-m_impr_j_jobid=\"2132142\" data-m_impr_j_jpm=\"2\" data-m_impr_j_jpt=\"3\" data-m_impr_j_lat=\"0\" data-m_impr_j_lid=\"0\" data-m_impr_j_long=\"0\" data-m_impr_j_occid=\"11986\" data-m_impr_j_p=\"5\" data-m_impr_j_postingid=\"b12d72ea-3114-4615-8534-ce9a2f2cbb66\" data-m_impr_j_pvc=\"a27e93eb-7b58-4913-a011-7ba11af55e6c\" data-m_impr_s_t=\"t\" data-m_impr_uuid=\"dcfe2530-5791-4c43-9cd4-bd8dbdfbb4f2\" href=\"https://job-openings.monster.com/senior-sales-engineer-melbourne-vic-us-zuora/b12d72ea-3114-4615-8534-ce9a2f2cbb66\" onclick=\"clickJobTitle('plid=0&amp;pcid=10&amp;poccid=11986','Software Developer',''); clickJobTitleSiteCat('{&quot;events.event48&quot;:&quot;true&quot;,&quot;eVar25&quot;:&quot;Senior Sales Engineer&quot;,&quot;eVar66&quot;:&quot;Monster&quot;,&quot;eVar67&quot;:&quot;JSR2CW&quot;,&quot;eVar26&quot;:&quot;_Zuora&quot;,&quot;eVar31&quot;:&quot;Melbourne_VIC_&quot;,&quot;prop24&quot;:&quot;2020-04-21T12:00&quot;,&quot;eVar53&quot;:&quot;4100688001001&quot;,&quot;eVar50&quot;:&quot;Aggregated&quot;,&quot;eVar74&quot;:&quot;regular&quot;}')\">\n",
      "          Senior Sales Engineer\n",
      "         </a>\n",
      "        </h2>\n",
      "       </header>\n",
      "       <div class=\"company\">\n",
      "        <span class=\"name\">\n",
      "         Zuora\n",
      "        </span>\n",
      "        <ul class=\"list-inline\">\n",
      "        </ul>\n",
      "       </div>\n",
      "       <div class=\"location\">\n",
      "        <span class=\"name\">\n",
      "         Melbourne, VIC\n",
      "        </span>\n",
      "       </div>\n",
      "      </div>\n",
      "      <div class=\"meta flex-col\">\n",
      "       <time datetime=\"2017-05-26T12:00\">\n",
      "        22 days ago\n",
      "       </time>\n",
      "       <span class=\"mux-tooltip applied-only\" data-mux=\"tooltip\" title=\"Applied\">\n",
      "        <i aria-hidden=\"true\" class=\"icon icon-applied\">\n",
      "        </i>\n",
      "        <span class=\"sr-only\">\n",
      "         Applied\n",
      "        </span>\n",
      "       </span>\n",
      "       <span class=\"mux-tooltip saved-only\" data-mux=\"tooltip\" title=\"Saved\">\n",
      "        <i aria-hidden=\"true\" class=\"icon icon-saved\">\n",
      "        </i>\n",
      "        <span class=\"sr-only\">\n",
      "         Saved\n",
      "        </span>\n",
      "       </span>\n",
      "      </div>\n",
      "     </div>\n",
      "    </section>\n",
      "    <section class=\"card-content \" data-jobid=\"6a353fab-1b46-4823-ab6e-d0417a41cc97\" onclick=\"MKImpressionTrackingMouseDownHijack(this, event)\">\n",
      "     <div class=\"flex-row\">\n",
      "      <div class=\"mux-company-logo thumbnail\">\n",
      "      </div>\n",
      "      <div class=\"summary\">\n",
      "       <header class=\"card-header\">\n",
      "        <h2 class=\"title\">\n",
      "         <a data-bypass=\"true\" data-m_impr_a_placement_id=\"JSR2CW\" data-m_impr_j_cid=\"10\" data-m_impr_j_coc=\"\" data-m_impr_j_jawsid=\"431521755\" data-m_impr_j_jobid=\"2141140\" data-m_impr_j_jpm=\"2\" data-m_impr_j_jpt=\"3\" data-m_impr_j_lat=\"0\" data-m_impr_j_lid=\"0\" data-m_impr_j_long=\"0\" data-m_impr_j_occid=\"11709\" data-m_impr_j_p=\"6\" data-m_impr_j_postingid=\"6a353fab-1b46-4823-ab6e-d0417a41cc97\" data-m_impr_j_pvc=\"a27e93eb-7b58-4913-a011-7ba11af55e6c\" data-m_impr_s_t=\"t\" data-m_impr_uuid=\"dc62a333-4774-4424-b7f2-42b09698f365\" href=\"https://job-openings.monster.com/enterprise-account-executive-melbourne-vic-us-zuora/6a353fab-1b46-4823-ab6e-d0417a41cc97\" onclick=\"clickJobTitle('plid=0&amp;pcid=10&amp;poccid=11709','Software Developer',''); clickJobTitleSiteCat('{&quot;events.event48&quot;:&quot;true&quot;,&quot;eVar25&quot;:&quot;Enterprise Account Executive&quot;,&quot;eVar66&quot;:&quot;Monster&quot;,&quot;eVar67&quot;:&quot;JSR2CW&quot;,&quot;eVar26&quot;:&quot;_Zuora&quot;,&quot;eVar31&quot;:&quot;Melbourne_VIC_&quot;,&quot;prop24&quot;:&quot;2020-05-07T12:00&quot;,&quot;eVar53&quot;:&quot;4100683001001&quot;,&quot;eVar50&quot;:&quot;Aggregated&quot;,&quot;eVar74&quot;:&quot;regular&quot;}')\">\n",
      "          Enterprise Account Executive\n",
      "         </a>\n",
      "        </h2>\n",
      "       </header>\n",
      "       <div class=\"company\">\n",
      "        <span class=\"name\">\n",
      "         Zuora\n",
      "        </span>\n",
      "        <ul class=\"list-inline\">\n",
      "        </ul>\n",
      "       </div>\n",
      "       <div class=\"location\">\n",
      "        <span class=\"name\">\n",
      "         Melbourne, VIC\n",
      "        </span>\n",
      "       </div>\n",
      "      </div>\n",
      "      <div class=\"meta flex-col\">\n",
      "       <time datetime=\"2017-05-26T12:00\">\n",
      "        6 days ago\n",
      "       </time>\n",
      "       <span class=\"mux-tooltip applied-only\" data-mux=\"tooltip\" title=\"Applied\">\n",
      "        <i aria-hidden=\"true\" class=\"icon icon-applied\">\n",
      "        </i>\n",
      "        <span class=\"sr-only\">\n",
      "         Applied\n",
      "        </span>\n",
      "       </span>\n",
      "       <span class=\"mux-tooltip saved-only\" data-mux=\"tooltip\" title=\"Saved\">\n",
      "        <i aria-hidden=\"true\" class=\"icon icon-saved\">\n",
      "        </i>\n",
      "        <span class=\"sr-only\">\n",
      "         Saved\n",
      "        </span>\n",
      "       </span>\n",
      "      </div>\n",
      "     </div>\n",
      "    </section>\n",
      "    <section class=\"card-content apas-ad\" data-mux=\"searchResultsAds\" style=\"display:none\">\n",
      "     <div id=\"bad2\">\n",
      "     </div>\n",
      "    </section>\n",
      "    <section class=\"card-content \" data-jobid=\"2f107225-7a3f-4635-9933-ae54c229e903\" onclick=\"MKImpressionTrackingMouseDownHijack(this, event)\">\n",
      "     <div class=\"flex-row\">\n",
      "      <div class=\"mux-company-logo thumbnail\">\n",
      "      </div>\n",
      "      <div class=\"summary\">\n",
      "       <header class=\"card-header\">\n",
      "        <h2 class=\"title\">\n",
      "         <a data-bypass=\"true\" data-m_impr_a_placement_id=\"JSR2CW\" data-m_impr_j_cid=\"10\" data-m_impr_j_coc=\"\" data-m_impr_j_jawsid=\"432101458\" data-m_impr_j_jobid=\"13469979\" data-m_impr_j_jpm=\"2\" data-m_impr_j_jpt=\"3\" data-m_impr_j_lat=\"0\" data-m_impr_j_lid=\"0\" data-m_impr_j_long=\"0\" data-m_impr_j_occid=\"11709\" data-m_impr_j_p=\"7\" data-m_impr_j_postingid=\"2f107225-7a3f-4635-9933-ae54c229e903\" data-m_impr_j_pvc=\"cec47324-719f-422e-89c2-4119fbb22642\" data-m_impr_s_t=\"t\" data-m_impr_uuid=\"167d77a3-9a64-41c3-9d14-175b666133c3\" href=\"https://job-openings.monster.com/account-manager-canberra-act-us-dialog-group/2f107225-7a3f-4635-9933-ae54c229e903\" onclick=\"clickJobTitle('plid=0&amp;pcid=10&amp;poccid=11709','Software Developer',''); clickJobTitleSiteCat('{&quot;events.event48&quot;:&quot;true&quot;,&quot;eVar25&quot;:&quot;Account Manager&quot;,&quot;eVar66&quot;:&quot;Monster&quot;,&quot;eVar67&quot;:&quot;JSR2CW&quot;,&quot;eVar26&quot;:&quot;_Dialog Group&quot;,&quot;eVar31&quot;:&quot;Canberra_ACT_&quot;,&quot;prop24&quot;:&quot;2020-05-13T12:00&quot;,&quot;eVar53&quot;:&quot;4100683001001&quot;,&quot;eVar50&quot;:&quot;Aggregated&quot;,&quot;eVar74&quot;:&quot;regular&quot;}')\">\n",
      "          Account Manager\n",
      "         </a>\n",
      "        </h2>\n",
      "       </header>\n",
      "       <div class=\"company\">\n",
      "        <span class=\"name\">\n",
      "         Dialog Group\n",
      "        </span>\n",
      "        <ul class=\"list-inline\">\n",
      "        </ul>\n",
      "       </div>\n",
      "       <div class=\"location\">\n",
      "        <span class=\"name\">\n",
      "         Canberra, ACT\n",
      "        </span>\n",
      "       </div>\n",
      "      </div>\n",
      "      <div class=\"meta flex-col\">\n",
      "       <time datetime=\"2017-05-26T12:00\">\n",
      "        Posted today\n",
      "       </time>\n",
      "       <span class=\"mux-tooltip applied-only\" data-mux=\"tooltip\" title=\"Applied\">\n",
      "        <i aria-hidden=\"true\" class=\"icon icon-applied\">\n",
      "        </i>\n",
      "        <span class=\"sr-only\">\n",
      "         Applied\n",
      "        </span>\n",
      "       </span>\n",
      "       <span class=\"mux-tooltip saved-only\" data-mux=\"tooltip\" title=\"Saved\">\n",
      "        <i aria-hidden=\"true\" class=\"icon icon-saved\">\n",
      "        </i>\n",
      "        <span class=\"sr-only\">\n",
      "         Saved\n",
      "        </span>\n",
      "       </span>\n",
      "      </div>\n",
      "     </div>\n",
      "    </section>\n",
      "    <section class=\"card-content \" data-jobid=\"009c9418-f3f2-489e-b1fd-12b5189ff204\" onclick=\"MKImpressionTrackingMouseDownHijack(this, event)\">\n",
      "     <div class=\"flex-row\">\n",
      "      <div class=\"mux-company-logo thumbnail is-loaded\">\n",
      "       <img alt=\"Mediaocean\" src=\"https://coda.newjobs.com/api/imagesproxy/ms/mm/xmediaoceanx/cjt/logo.jpg\"/>\n",
      "      </div>\n",
      "      <div class=\"summary\">\n",
      "       <header class=\"card-header\">\n",
      "        <h2 class=\"title\">\n",
      "         <a data-bypass=\"true\" data-m_impr_a_placement_id=\"JSR2CW\" data-m_impr_j_cid=\"545\" data-m_impr_j_coc=\"\" data-m_impr_j_jawsid=\"428765310\" data-m_impr_j_jobid=\"523897\" data-m_impr_j_jpm=\"2\" data-m_impr_j_jpt=\"3\" data-m_impr_j_lat=\"0\" data-m_impr_j_lid=\"0\" data-m_impr_j_long=\"0\" data-m_impr_j_occid=\"11738\" data-m_impr_j_p=\"8\" data-m_impr_j_postingid=\"009c9418-f3f2-489e-b1fd-12b5189ff204\" data-m_impr_j_pvc=\"6232df37-d6a8-4d8d-8427-26e9c9101837\" data-m_impr_s_t=\"t\" data-m_impr_uuid=\"ad5167cb-af71-48b3-b485-b0ef6eb0cade\" href=\"https://job-openings.monster.com/customer-experience-technical-analyst-sydney-new-south-wales-sydney-nsw-us-mediaocean/009c9418-f3f2-489e-b1fd-12b5189ff204\" onclick=\"clickJobTitle('plid=0&amp;pcid=545&amp;poccid=11738','Software Developer',''); clickJobTitleSiteCat('{&quot;events.event48&quot;:&quot;true&quot;,&quot;eVar25&quot;:&quot;Customer Experience Technical Analyst - Sydney, New South Wales&quot;,&quot;eVar66&quot;:&quot;Monster&quot;,&quot;eVar67&quot;:&quot;JSR2CW&quot;,&quot;eVar26&quot;:&quot;_Mediaocean&quot;,&quot;eVar31&quot;:&quot;Sydney_NSW_&quot;,&quot;prop24&quot;:&quot;2020-04-02T12:00&quot;,&quot;eVar53&quot;:&quot;4300715001001&quot;,&quot;eVar50&quot;:&quot;Aggregated&quot;,&quot;eVar74&quot;:&quot;logo&quot;}')\">\n",
      "          Customer Experience Technical Analyst - Sydney, New South Wales\n",
      "         </a>\n",
      "        </h2>\n",
      "       </header>\n",
      "       <div class=\"company\">\n",
      "        <span class=\"name\">\n",
      "         Mediaocean\n",
      "        </span>\n",
      "        <ul class=\"list-inline\">\n",
      "        </ul>\n",
      "       </div>\n",
      "       <div class=\"location\">\n",
      "        <span class=\"name\">\n",
      "         Sydney, NSW\n",
      "        </span>\n",
      "       </div>\n",
      "      </div>\n",
      "      <div class=\"meta flex-col\">\n",
      "       <time datetime=\"2017-05-26T12:00\">\n",
      "        +30 days ago\n",
      "       </time>\n",
      "       <span class=\"mux-tooltip applied-only\" data-mux=\"tooltip\" title=\"Applied\">\n",
      "        <i aria-hidden=\"true\" class=\"icon icon-applied\">\n",
      "        </i>\n",
      "        <span class=\"sr-only\">\n",
      "         Applied\n",
      "        </span>\n",
      "       </span>\n",
      "       <span class=\"mux-tooltip saved-only\" data-mux=\"tooltip\" title=\"Saved\">\n",
      "        <i aria-hidden=\"true\" class=\"icon icon-saved\">\n",
      "        </i>\n",
      "        <span class=\"sr-only\">\n",
      "         Saved\n",
      "        </span>\n",
      "       </span>\n",
      "      </div>\n",
      "     </div>\n",
      "    </section>\n",
      "    <section class=\"card-content \" data-jobid=\"09e05fe9-27f2-46bf-8c2f-7398f155b583\" onclick=\"MKImpressionTrackingMouseDownHijack(this, event)\">\n",
      "     <div class=\"flex-row\">\n",
      "      <div class=\"mux-company-logo thumbnail\">\n",
      "      </div>\n",
      "      <div class=\"summary\">\n",
      "       <header class=\"card-header\">\n",
      "        <h2 class=\"title\">\n",
      "         <a data-bypass=\"true\" data-m_impr_a_placement_id=\"JSR2CW\" data-m_impr_j_cid=\"4\" data-m_impr_j_coc=\"\" data-m_impr_j_jawsid=\"430980444\" data-m_impr_j_jobid=\"13434762\" data-m_impr_j_jpm=\"2\" data-m_impr_j_jpt=\"3\" data-m_impr_j_lat=\"0\" data-m_impr_j_lid=\"0\" data-m_impr_j_long=\"0\" data-m_impr_j_occid=\"11838\" data-m_impr_j_p=\"9\" data-m_impr_j_postingid=\"09e05fe9-27f2-46bf-8c2f-7398f155b583\" data-m_impr_j_pvc=\"cec47324-719f-422e-89c2-4119fbb22642\" data-m_impr_s_t=\"t\" data-m_impr_uuid=\"5d25beaa-aa25-422d-b3d2-04cacf075706\" href=\"https://job-openings.monster.com/test-analyst-senior-test-analyst-melbourne-vic-us-dialog-group/09e05fe9-27f2-46bf-8c2f-7398f155b583\" onclick=\"clickJobTitle('plid=0&amp;pcid=4&amp;poccid=11838','Software Developer',''); clickJobTitleSiteCat('{&quot;events.event48&quot;:&quot;true&quot;,&quot;eVar25&quot;:&quot;Test Analyst / Senior Test Analyst&quot;,&quot;eVar66&quot;:&quot;Monster&quot;,&quot;eVar67&quot;:&quot;JSR2CW&quot;,&quot;eVar26&quot;:&quot;_Dialog Group&quot;,&quot;eVar31&quot;:&quot;Melbourne_VIC_&quot;,&quot;prop24&quot;:&quot;2020-04-30T12:00&quot;,&quot;eVar53&quot;:&quot;1700192001001&quot;,&quot;eVar50&quot;:&quot;Aggregated&quot;,&quot;eVar74&quot;:&quot;regular&quot;}')\">\n",
      "          Test Analyst / Senior Test Analyst\n",
      "         </a>\n",
      "        </h2>\n",
      "       </header>\n",
      "       <div class=\"company\">\n",
      "        <span class=\"name\">\n",
      "         Dialog Group\n",
      "        </span>\n",
      "        <ul class=\"list-inline\">\n",
      "        </ul>\n",
      "       </div>\n",
      "       <div class=\"location\">\n",
      "        <span class=\"name\">\n",
      "         Melbourne, VIC\n",
      "        </span>\n",
      "       </div>\n",
      "      </div>\n",
      "      <div class=\"meta flex-col\">\n",
      "       <time datetime=\"2017-05-26T12:00\">\n",
      "        13 days ago\n",
      "       </time>\n",
      "       <span class=\"mux-tooltip applied-only\" data-mux=\"tooltip\" title=\"Applied\">\n",
      "        <i aria-hidden=\"true\" class=\"icon icon-applied\">\n",
      "        </i>\n",
      "        <span class=\"sr-only\">\n",
      "         Applied\n",
      "        </span>\n",
      "       </span>\n",
      "       <span class=\"mux-tooltip saved-only\" data-mux=\"tooltip\" title=\"Saved\">\n",
      "        <i aria-hidden=\"true\" class=\"icon icon-saved\">\n",
      "        </i>\n",
      "        <span class=\"sr-only\">\n",
      "         Saved\n",
      "        </span>\n",
      "       </span>\n",
      "      </div>\n",
      "     </div>\n",
      "    </section>\n",
      "    <section class=\"card-content \" data-jobid=\"dceff465-7b62-4307-98eb-92caaa724500\" onclick=\"MKImpressionTrackingMouseDownHijack(this, event)\">\n",
      "     <div class=\"flex-row\">\n",
      "      <div class=\"mux-company-logo thumbnail\">\n",
      "      </div>\n",
      "      <div class=\"summary\">\n",
      "       <header class=\"card-header\">\n",
      "        <h2 class=\"title\">\n",
      "         <a data-bypass=\"true\" data-m_impr_a_placement_id=\"JSR2CW\" data-m_impr_j_cid=\"10\" data-m_impr_j_coc=\"\" data-m_impr_j_jawsid=\"392221716\" data-m_impr_j_jobid=\"0\" data-m_impr_j_jpm=\"2\" data-m_impr_j_jpt=\"3\" data-m_impr_j_lat=\"40.8516\" data-m_impr_j_lid=\"406\" data-m_impr_j_long=\"-93.26\" data-m_impr_j_occid=\"11801\" data-m_impr_j_p=\"10\" data-m_impr_j_postingid=\"dceff465-7b62-4307-98eb-92caaa724500\" data-m_impr_j_pvc=\"d62b8aa9-0613-48d5-815d-47f70d73be0d\" data-m_impr_s_t=\"t\" data-m_impr_uuid=\"09c9dc9f-e6ba-4c49-99a9-900884fff379\" href=\"https://job-openings.monster.com/senior-practice-manager-ies-wa-new-york-wa-us-blue-ocean-ventures/dceff465-7b62-4307-98eb-92caaa724500\" onclick=\"clickJobTitle('plid=406&amp;pcid=10&amp;poccid=11801','Software Developer',''); clickJobTitleSiteCat('{&quot;events.event48&quot;:&quot;true&quot;,&quot;eVar25&quot;:&quot;Senior Practice Manager - IES (WA)&quot;,&quot;eVar66&quot;:&quot;Monster&quot;,&quot;eVar67&quot;:&quot;JSR2CW&quot;,&quot;eVar26&quot;:&quot;_Blue Ocean Ventures&quot;,&quot;eVar31&quot;:&quot;New York_WA_&quot;,&quot;prop24&quot;:&quot;2019-08-06T12:00&quot;,&quot;eVar53&quot;:&quot;1100047001001&quot;,&quot;eVar50&quot;:&quot;Aggregated&quot;,&quot;eVar74&quot;:&quot;regular&quot;}')\">\n",
      "          Senior Practice Manager - IES (WA)\n",
      "         </a>\n",
      "        </h2>\n",
      "       </header>\n",
      "       <div class=\"company\">\n",
      "        <span class=\"name\">\n",
      "         Blue Ocean Ventures\n",
      "        </span>\n",
      "        <ul class=\"list-inline\">\n",
      "        </ul>\n",
      "       </div>\n",
      "       <div class=\"location\">\n",
      "        <span class=\"name\">\n",
      "         New York, WA\n",
      "        </span>\n",
      "       </div>\n",
      "      </div>\n",
      "      <div class=\"meta flex-col\">\n",
      "       <time datetime=\"2017-05-26T12:00\">\n",
      "        +30 days ago\n",
      "       </time>\n",
      "       <span class=\"mux-tooltip applied-only\" data-mux=\"tooltip\" title=\"Applied\">\n",
      "        <i aria-hidden=\"true\" class=\"icon icon-applied\">\n",
      "        </i>\n",
      "        <span class=\"sr-only\">\n",
      "         Applied\n",
      "        </span>\n",
      "       </span>\n",
      "       <span class=\"mux-tooltip saved-only\" data-mux=\"tooltip\" title=\"Saved\">\n",
      "        <i aria-hidden=\"true\" class=\"icon icon-saved\">\n",
      "        </i>\n",
      "        <span class=\"sr-only\">\n",
      "         Saved\n",
      "        </span>\n",
      "       </span>\n",
      "      </div>\n",
      "     </div>\n",
      "    </section>\n",
      "    <section class=\"card-content \" data-jobid=\"216594297\" data-postingid=\"3944496c-a5ea-40a6-902f-1f34937056e8\" data-ssr=\"true\" onclick=\"MKImpressionTrackingMouseDownHijack(this, event)\">\n",
      "     <p class=\"entry\">\n",
      "      Interesting opportunity\n",
      "     </p>\n",
      "     <div class=\"flex-row\">\n",
      "      <div class=\"mux-company-logo thumbnail is-loaded\">\n",
      "       <img alt=\"Amazon Corporate LLC\" src=\"https://media.newjobs.com/clu/xama/xamazonx/branding/54/Amazon-logo-637196280106671504.gif\"/>\n",
      "      </div>\n",
      "      <div class=\"summary\">\n",
      "       <header class=\"card-header\">\n",
      "        <h2 class=\"title\">\n",
      "         <a data-bypass=\"true\" data-m_impr_a_placement_id=\"JSRSEC\" data-m_impr_j_cid=\"660\" data-m_impr_j_coc=\"xwag2321849x\" data-m_impr_j_jawsid=\"426297598\" data-m_impr_j_jobid=\"216594297\" data-m_impr_j_jpm=\"1\" data-m_impr_j_jpt=\"1\" data-m_impr_j_lat=\"47.6388\" data-m_impr_j_lid=\"0\" data-m_impr_j_long=\"-122.37\" data-m_impr_j_occid=\"11904\" data-m_impr_j_p=\"11\" data-m_impr_j_postingid=\"3944496c-a5ea-40a6-902f-1f34937056e8\" data-m_impr_j_pvc=\"monster\" data-m_impr_s_t=\"m\" data-m_impr_uuid=\"b34be781-cf75-451b-99a9-eeabc4e43c9c\" href=\"https://job-openings.monster.com/software-development-engineer-software-developer-new-initiative-project-from-t-seattle-wa-us-amazon-corporate-llc/216594297\" onclick=\"clickJobTitle('plid=0&amp;pcid=660&amp;poccid=11904','Software Developer',''); clickJobTitleSiteCat('{&quot;events.event48&quot;:&quot;true&quot;,&quot;events.event65&quot;:&quot;true&quot;,&quot;eVar25&quot;:&quot;Software Development Engineer/Software Developer - New initiative project from t&quot;,&quot;eVar66&quot;:&quot;Monster&quot;,&quot;eVar67&quot;:&quot;JSRSEC&quot;,&quot;eVar26&quot;:&quot;xwag2321849x_Amazon Corporate LLC&quot;,&quot;eVar31&quot;:&quot;Seattle_WA_&quot;,&quot;prop22&quot;:&quot;Full-Time&quot;,&quot;prop24&quot;:&quot;2020-03-10T06:36&quot;,&quot;eVar47&quot;:&quot;monster&quot;,&quot;eVar53&quot;:&quot;1500127001001&quot;,&quot;eVar50&quot;:&quot;Duration&quot;,&quot;eVar74&quot;:&quot;logo&quot;}')\">\n",
      "          Software Development Engineer/Software Developer - New initiative project from t\n",
      "         </a>\n",
      "        </h2>\n",
      "       </header>\n",
      "       <div class=\"company\">\n",
      "        <span class=\"name\">\n",
      "         Amazon Corporate LLC\n",
      "        </span>\n",
      "        <ul class=\"list-inline\">\n",
      "        </ul>\n",
      "       </div>\n",
      "       <div class=\"location\">\n",
      "        <span class=\"name\">\n",
      "         Seattle, WA\n",
      "        </span>\n",
      "       </div>\n",
      "      </div>\n",
      "      <div class=\"meta flex-col\">\n",
      "       <time datetime=\"2017-05-26T12:00\">\n",
      "        +30 days ago\n",
      "       </time>\n",
      "       <span class=\"mux-tooltip applied-only\" data-mux=\"tooltip\" title=\"Applied\">\n",
      "        <i aria-hidden=\"true\" class=\"icon icon-applied\">\n",
      "        </i>\n",
      "        <span class=\"sr-only\">\n",
      "         Applied\n",
      "        </span>\n",
      "       </span>\n",
      "       <span class=\"mux-tooltip saved-only\" data-mux=\"tooltip\" title=\"Saved\">\n",
      "        <i aria-hidden=\"true\" class=\"icon icon-saved\">\n",
      "        </i>\n",
      "        <span class=\"sr-only\">\n",
      "         Saved\n",
      "        </span>\n",
      "       </span>\n",
      "      </div>\n",
      "     </div>\n",
      "    </section>\n",
      "   </div>\n",
      "   <a class=\"mux-btn btn-secondary load-more-btn \" data-action=\"fetch\" href=\"https://www.monster.com/jobs/search/?page=2\" id=\"loadMoreJobs\" role=\"button\">\n",
      "    Load more jobs\n",
      "   </a>\n",
      "   <a class=\"mux-btn btn-secondary no-more-jobs-btn disabled \" id=\"noMoreResults\" role=\"button\" style=\"display:none\">\n",
      "    No More Results\n",
      "   </a>\n",
      "  </div>\n",
      " </div>\n",
      "</div>\n",
      "\n"
     ]
    }
   ],
   "source": [
    "#print(results.prettify())"
   ]
  },
  {
   "cell_type": "code",
   "execution_count": 218,
   "metadata": {},
   "outputs": [],
   "source": [
    "job_elems = results.find_all('section', class_='card-content')"
   ]
  },
  {
   "cell_type": "code",
   "execution_count": 145,
   "metadata": {},
   "outputs": [
    {
     "name": "stdout",
     "output_type": "stream",
     "text": [
      "SQL BI (SSRS, SSIS) developer for Blackboard - NYC\n",
      "LanceSoft Inc\n",
      "New york, WA\n",
      "\n",
      "Python Developer\n",
      "LanceSoft Inc\n",
      "Woodlands, WA\n",
      "\n",
      "Junior QA Analyst - Melbourne, Victoria\n",
      "Mediaocean\n",
      "Melbourne, VIC\n",
      "\n",
      "Test Analyst\n",
      "Dialog Group\n",
      "Canberra, ACT\n",
      "\n",
      "Senior Sales Engineer\n",
      "Zuora\n",
      "Melbourne, VIC\n",
      "\n",
      "Enterprise Account Executive\n",
      "Zuora\n",
      "Melbourne, VIC\n",
      "\n",
      "Test Analyst / Senior Test Analyst\n",
      "Dialog Group\n",
      "Melbourne, VIC\n",
      "\n",
      "Customer Experience Technical Analyst - Sydney, New South Wales\n",
      "Mediaocean\n",
      "Sydney, NSW\n",
      "\n",
      "Senior Practice Manager - IES (WA)\n",
      "Blue Ocean Ventures\n",
      "New York, WA\n",
      "\n",
      "Software Development Engineer/Software Developer - New initiative project from t\n",
      "Amazon Corporate LLC\n",
      "Seattle, WA\n",
      "\n"
     ]
    }
   ],
   "source": [
    "for job_elem in job_elems:\n",
    "    title_elem = job_elem.find('h2', class_='title')\n",
    "    company_elem = job_elem.find('div', class_='company')\n",
    "    location_elem = job_elem.find('div', class_='location')\n",
    "    if None in (title_elem, company_elem, location_elem):\n",
    "        continue\n",
    "    print(title_elem.text.strip())\n",
    "    print(company_elem.text.strip())\n",
    "    print(location_elem.text.strip())\n",
    "    print()"
   ]
  },
  {
   "cell_type": "markdown",
   "metadata": {},
   "source": [
    "## Finding a job by title"
   ]
  },
  {
   "cell_type": "code",
   "execution_count": 146,
   "metadata": {},
   "outputs": [],
   "source": [
    "python_jobs = results.find_all('h2', string='Python Developer')"
   ]
  },
  {
   "cell_type": "code",
   "execution_count": 147,
   "metadata": {},
   "outputs": [],
   "source": [
    "python_jobs = results.find_all('h2',\n",
    "                               string=lambda text: 'python' in text.lower())"
   ]
  },
  {
   "cell_type": "code",
   "execution_count": 148,
   "metadata": {},
   "outputs": [
    {
     "name": "stdout",
     "output_type": "stream",
     "text": [
      "1\n"
     ]
    }
   ],
   "source": [
    " print(len(python_jobs))"
   ]
  },
  {
   "cell_type": "code",
   "execution_count": 149,
   "metadata": {},
   "outputs": [
    {
     "name": "stdout",
     "output_type": "stream",
     "text": [
      "Python Developer\n",
      "Apply here: https://job-openings.monster.com/python-developer-woodlands-wa-us-lancesoft-inc/4755ec59-d0db-4ce9-8385-b4df7c1e9f7c\n",
      "\n"
     ]
    }
   ],
   "source": [
    "for p_job in python_jobs:\n",
    "    link = p_job.find('a')['href']\n",
    "    print(p_job.text.strip())\n",
    "    print(f\"Apply here: {link}\\n\")"
   ]
  },
  {
   "cell_type": "markdown",
   "metadata": {},
   "source": [
    "## IMBD Web Scraping"
   ]
  },
  {
   "cell_type": "code",
   "execution_count": 270,
   "metadata": {},
   "outputs": [],
   "source": [
    "response = requests.get(\"http://www.imdb.com/search/title?release_date=2017&sort=num_votes,desc&page=1\")"
   ]
  },
  {
   "cell_type": "code",
   "execution_count": 271,
   "metadata": {},
   "outputs": [
    {
     "name": "stdout",
     "output_type": "stream",
     "text": [
      "\n",
      "\n",
      "\n",
      "<!DOCTYPE html>\n",
      "<html\n",
      "    xmlns:og=\"http://ogp.me/ns#\"\n",
      "    xmlns:fb=\"http://www.facebook.com/2008/fbml\">\n",
      "    <head>\n",
      "         \n",
      "        <meta charset=\"utf-8\">\n",
      "        <meta http-equiv=\"X-UA-Compatible\" content=\"IE=edge\">\n",
      "\n",
      "    <meta name=\"apple-itunes-app\" content=\"app-id=342792525, app-argument=imdb:///?src=mdot\">\n",
      "\n",
      "\n",
      "\n",
      "        <script type=\"text/javascript\">var IMDbTimer={starttime: new Date().getTime(),pt:'java'};</script>\n",
      "\n",
      "<script>\n",
      "    if (typeof uet == 'function') {\n",
      "      uet(\"bb\", \"LoadTitle\"\n"
     ]
    }
   ],
   "source": [
    "print(response.text[:500])"
   ]
  },
  {
   "cell_type": "code",
   "execution_count": 272,
   "metadata": {},
   "outputs": [
    {
     "data": {
      "text/plain": [
       "<class 'bs4.BeautifulSoup'>"
      ]
     },
     "execution_count": 272,
     "metadata": {},
     "output_type": "execute_result"
    }
   ],
   "source": [
    "html_soup = BeautifulSoup(response.text, 'html.parser')\n",
    "type(html_soup)"
   ]
  },
  {
   "cell_type": "markdown",
   "metadata": {},
   "source": [
    "## Reading movie details in 1st page"
   ]
  },
  {
   "cell_type": "code",
   "execution_count": 273,
   "metadata": {},
   "outputs": [],
   "source": [
    "movie_containers = html_soup.find_all('div', class_ = 'lister-item mode-advanced')"
   ]
  },
  {
   "cell_type": "code",
   "execution_count": 274,
   "metadata": {},
   "outputs": [
    {
     "name": "stdout",
     "output_type": "stream",
     "text": [
      "<class 'bs4.element.ResultSet'>\n"
     ]
    }
   ],
   "source": [
    "print(type(movie_containers))"
   ]
  },
  {
   "cell_type": "code",
   "execution_count": 275,
   "metadata": {},
   "outputs": [
    {
     "name": "stdout",
     "output_type": "stream",
     "text": [
      "50\n"
     ]
    }
   ],
   "source": [
    "print(len(movie_containers))"
   ]
  },
  {
   "cell_type": "markdown",
   "metadata": {},
   "source": [
    "## Retriving movie detials of first movie"
   ]
  },
  {
   "cell_type": "code",
   "execution_count": 276,
   "metadata": {},
   "outputs": [],
   "source": [
    "first_movie = movie_containers[0]"
   ]
  },
  {
   "cell_type": "code",
   "execution_count": 277,
   "metadata": {},
   "outputs": [
    {
     "data": {
      "text/plain": [
       "<div class=\"lister-top-right\">\n",
       "<div class=\"ribbonize\" data-caller=\"filmosearch\" data-tconst=\"tt3315342\"></div>\n",
       "</div>"
      ]
     },
     "execution_count": 277,
     "metadata": {},
     "output_type": "execute_result"
    }
   ],
   "source": [
    "first_movie.div"
   ]
  },
  {
   "cell_type": "code",
   "execution_count": 158,
   "metadata": {},
   "outputs": [
    {
     "data": {
      "text/plain": [
       "<a href=\"/title/tt3315342/\"> <img alt=\"Logan\" class=\"loadlate\" data-tconst=\"tt3315342\" height=\"98\" loadlate=\"https://m.media-amazon.com/images/M/MV5BYzc5MTU4N2EtYTkyMi00NjdhLTg3NWEtMTY4OTEyMzJhZTAzXkEyXkFqcGdeQXVyNjc1NTYyMjg@._V1_UX67_CR0,0,67,98_AL_.jpg\" src=\"https://m.media-amazon.com/images/G/01/imdb/images/nopicture/large/film-184890147._CB466725069_.png\" width=\"67\"/>\n",
       "</a>"
      ]
     },
     "execution_count": 158,
     "metadata": {},
     "output_type": "execute_result"
    }
   ],
   "source": [
    "first_movie.a"
   ]
  },
  {
   "cell_type": "code",
   "execution_count": 159,
   "metadata": {},
   "outputs": [
    {
     "data": {
      "text/plain": [
       "<h3 class=\"lister-item-header\">\n",
       "<span class=\"lister-item-index unbold text-primary\">1.</span>\n",
       "<a href=\"/title/tt3315342/\">Logan</a>\n",
       "<span class=\"lister-item-year text-muted unbold\">(2017)</span>\n",
       "</h3>"
      ]
     },
     "execution_count": 159,
     "metadata": {},
     "output_type": "execute_result"
    }
   ],
   "source": [
    "first_movie.h3"
   ]
  },
  {
   "cell_type": "code",
   "execution_count": 160,
   "metadata": {},
   "outputs": [
    {
     "data": {
      "text/plain": [
       "<a href=\"/title/tt3315342/\">Logan</a>"
      ]
     },
     "execution_count": 160,
     "metadata": {},
     "output_type": "execute_result"
    }
   ],
   "source": [
    "first_movie.h3.a"
   ]
  },
  {
   "cell_type": "code",
   "execution_count": 161,
   "metadata": {},
   "outputs": [
    {
     "data": {
      "text/plain": [
       "'Logan'"
      ]
     },
     "execution_count": 161,
     "metadata": {},
     "output_type": "execute_result"
    }
   ],
   "source": [
    "first_movie.h3.a.text"
   ]
  },
  {
   "cell_type": "code",
   "execution_count": 162,
   "metadata": {},
   "outputs": [],
   "source": [
    "first_year = first_movie.find('span', class_ = \"lister-item-year text-muted unbold\")"
   ]
  },
  {
   "cell_type": "code",
   "execution_count": 163,
   "metadata": {},
   "outputs": [
    {
     "data": {
      "text/plain": [
       "<built-in method split of str object at 0x0000016BB4B4FE68>"
      ]
     },
     "execution_count": 163,
     "metadata": {},
     "output_type": "execute_result"
    }
   ],
   "source": [
    "first_year.text.split"
   ]
  },
  {
   "cell_type": "code",
   "execution_count": 164,
   "metadata": {},
   "outputs": [
    {
     "data": {
      "text/plain": [
       "'8.1'"
      ]
     },
     "execution_count": 164,
     "metadata": {},
     "output_type": "execute_result"
    }
   ],
   "source": [
    "first_movie.strong.text"
   ]
  },
  {
   "cell_type": "code",
   "execution_count": 165,
   "metadata": {},
   "outputs": [],
   "source": [
    "first_imdb = float(first_movie.strong.text)"
   ]
  },
  {
   "cell_type": "code",
   "execution_count": 166,
   "metadata": {},
   "outputs": [
    {
     "data": {
      "text/plain": [
       "8.1"
      ]
     },
     "execution_count": 166,
     "metadata": {},
     "output_type": "execute_result"
    }
   ],
   "source": [
    "first_imdb"
   ]
  },
  {
   "cell_type": "code",
   "execution_count": 167,
   "metadata": {},
   "outputs": [
    {
     "name": "stdout",
     "output_type": "stream",
     "text": [
      "77\n"
     ]
    }
   ],
   "source": [
    "first_mscore = first_movie.find('span', class_ = 'metascore favorable')\n",
    "first_mscore = int(first_mscore.text)\n",
    "print(first_mscore)"
   ]
  },
  {
   "cell_type": "code",
   "execution_count": 168,
   "metadata": {},
   "outputs": [
    {
     "data": {
      "text/plain": [
       "<span data-value=\"614095\" name=\"nv\">614,095</span>"
      ]
     },
     "execution_count": 168,
     "metadata": {},
     "output_type": "execute_result"
    }
   ],
   "source": [
    "first_votes = first_movie.find('span', attrs = {'name':'nv'})\n",
    "first_votes"
   ]
  },
  {
   "cell_type": "code",
   "execution_count": 169,
   "metadata": {},
   "outputs": [
    {
     "name": "stdout",
     "output_type": "stream",
     "text": [
      "614095\n"
     ]
    }
   ],
   "source": [
    "print(int(first_votes['data-value']))"
   ]
  },
  {
   "cell_type": "code",
   "execution_count": 227,
   "metadata": {},
   "outputs": [
    {
     "data": {
      "text/plain": [
       "'137 min'"
      ]
     },
     "execution_count": 227,
     "metadata": {},
     "output_type": "execute_result"
    }
   ],
   "source": [
    "#runtime\n",
    "first_runtime = first_movie.find('span', class_ = \"runtime\").text\n",
    "first_runtime"
   ]
  },
  {
   "cell_type": "code",
   "execution_count": 256,
   "metadata": {},
   "outputs": [
    {
     "data": {
      "text/plain": [
       "'Action, Drama, Sci-Fi'"
      ]
     },
     "execution_count": 256,
     "metadata": {},
     "output_type": "execute_result"
    }
   ],
   "source": [
    "#genre\n",
    "first_genre = first_movie.find('span', class_ = \"genre\").text\n",
    "first_genre[1:].strip()"
   ]
  },
  {
   "cell_type": "code",
   "execution_count": 170,
   "metadata": {},
   "outputs": [
    {
     "data": {
      "text/plain": [
       "<class 'bs4.element.Tag'>"
      ]
     },
     "execution_count": 170,
     "metadata": {},
     "output_type": "execute_result"
    }
   ],
   "source": [
    "eighth_movie_mscore = movie_containers[6].find('div', class_ = 'ratings-metascore')\n",
    "type(eighth_movie_mscore)"
   ]
  },
  {
   "cell_type": "code",
   "execution_count": 278,
   "metadata": {},
   "outputs": [],
   "source": [
    "pages = [str(i) for i in range(1,5)]\n",
    "years_url = [str(i) for i in range(2000, 2018)]   "
   ]
  },
  {
   "cell_type": "code",
   "execution_count": 289,
   "metadata": {},
   "outputs": [],
   "source": [
    "names = []\n",
    "years = []\n",
    "votes = []\n",
    "metascores = []\n",
    "imdb_ratings = []\n",
    "genres = []\n",
    "runtimes = []\n",
    "\n",
    "for year_url in years_url:\n",
    "    for page in pages:\n",
    "        page_html = BeautifulSoup(response.text, 'html.parser')\n",
    "        mv_containers = page_html.find_all('div', class_ = 'lister-item mode-advanced')\n",
    "        for container in mv_containers:\n",
    "            if container.find('div', class_ = 'ratings-metascore') is not None:\n",
    "#name   \n",
    "                name = container.h3.a.text\n",
    "                names.append(name)\n",
    "#year\n",
    "                year = container.find('span', class_ = \"lister-item-year\").text\n",
    "                years.append(year)\n",
    "#rating\n",
    "                rating = float(container.strong.text)\n",
    "                imdb_ratings.append(rating)\n",
    "#votes\n",
    "                vote = container.find('span', attrs = {'name':'nv'})['data-value']\n",
    "                votes.append(int(vote))\n",
    "#metascore\n",
    "                score = container.find('span', class_ = 'metascore').text\n",
    "                metascores.append(int(score))\n",
    "#genre\n",
    "                genre = container.find('span', class_ = \"genre\").text.strip()\n",
    "                genres.append(genre)\n",
    "#runtime\n",
    "                runtime = container.find('span', class_ = \"runtime\").text\n",
    "                runtimes.append(runtime)"
   ]
  },
  {
   "cell_type": "code",
   "execution_count": 290,
   "metadata": {},
   "outputs": [
    {
     "data": {
      "text/html": [
       "<div>\n",
       "<style scoped>\n",
       "    .dataframe tbody tr th:only-of-type {\n",
       "        vertical-align: middle;\n",
       "    }\n",
       "\n",
       "    .dataframe tbody tr th {\n",
       "        vertical-align: top;\n",
       "    }\n",
       "\n",
       "    .dataframe thead th {\n",
       "        text-align: right;\n",
       "    }\n",
       "</style>\n",
       "<table border=\"1\" class=\"dataframe\">\n",
       "  <thead>\n",
       "    <tr style=\"text-align: right;\">\n",
       "      <th></th>\n",
       "      <th>Movie</th>\n",
       "      <th>Year</th>\n",
       "      <th>IMDB</th>\n",
       "      <th>Metascore</th>\n",
       "      <th>Vote</th>\n",
       "      <th>Runtime</th>\n",
       "      <th>Genre</th>\n",
       "    </tr>\n",
       "  </thead>\n",
       "  <tbody>\n",
       "    <tr>\n",
       "      <th>0</th>\n",
       "      <td>Logan</td>\n",
       "      <td>(2017)</td>\n",
       "      <td>8.1</td>\n",
       "      <td>77</td>\n",
       "      <td>614375</td>\n",
       "      <td>137 min</td>\n",
       "      <td>Action, Biography, Comedy</td>\n",
       "    </tr>\n",
       "    <tr>\n",
       "      <th>1</th>\n",
       "      <td>Thor: Ragnarok</td>\n",
       "      <td>(2017)</td>\n",
       "      <td>7.9</td>\n",
       "      <td>74</td>\n",
       "      <td>550032</td>\n",
       "      <td>130 min</td>\n",
       "      <td>Action, Biography, Comedy</td>\n",
       "    </tr>\n",
       "    <tr>\n",
       "      <th>2</th>\n",
       "      <td>Guardians of the Galaxy Vol. 2</td>\n",
       "      <td>(2017)</td>\n",
       "      <td>7.6</td>\n",
       "      <td>67</td>\n",
       "      <td>538218</td>\n",
       "      <td>136 min</td>\n",
       "      <td>Action, Biography, Comedy</td>\n",
       "    </tr>\n",
       "    <tr>\n",
       "      <th>3</th>\n",
       "      <td>Star Wars: Episode VIII - The Last Jedi</td>\n",
       "      <td>(2017)</td>\n",
       "      <td>7.0</td>\n",
       "      <td>84</td>\n",
       "      <td>537284</td>\n",
       "      <td>152 min</td>\n",
       "      <td>Action, Biography, Comedy</td>\n",
       "    </tr>\n",
       "    <tr>\n",
       "      <th>4</th>\n",
       "      <td>Wonder Woman</td>\n",
       "      <td>(2017)</td>\n",
       "      <td>7.4</td>\n",
       "      <td>76</td>\n",
       "      <td>526497</td>\n",
       "      <td>141 min</td>\n",
       "      <td>Action, Biography, Comedy</td>\n",
       "    </tr>\n",
       "    <tr>\n",
       "      <th>...</th>\n",
       "      <td>...</td>\n",
       "      <td>...</td>\n",
       "      <td>...</td>\n",
       "      <td>...</td>\n",
       "      <td>...</td>\n",
       "      <td>...</td>\n",
       "      <td>...</td>\n",
       "    </tr>\n",
       "    <tr>\n",
       "      <th>3019</th>\n",
       "      <td>Bright</td>\n",
       "      <td>(I) (2017)</td>\n",
       "      <td>6.3</td>\n",
       "      <td>29</td>\n",
       "      <td>161128</td>\n",
       "      <td>117 min</td>\n",
       "      <td>Action, Biography, Comedy</td>\n",
       "    </tr>\n",
       "    <tr>\n",
       "      <th>3020</th>\n",
       "      <td>Darkest Hour</td>\n",
       "      <td>(2017)</td>\n",
       "      <td>7.4</td>\n",
       "      <td>75</td>\n",
       "      <td>159763</td>\n",
       "      <td>125 min</td>\n",
       "      <td>Action, Biography, Comedy</td>\n",
       "    </tr>\n",
       "    <tr>\n",
       "      <th>3021</th>\n",
       "      <td>Valerian and the City of a Thousand Planets</td>\n",
       "      <td>(2017)</td>\n",
       "      <td>6.5</td>\n",
       "      <td>51</td>\n",
       "      <td>154420</td>\n",
       "      <td>137 min</td>\n",
       "      <td>Action, Biography, Comedy</td>\n",
       "    </tr>\n",
       "    <tr>\n",
       "      <th>3022</th>\n",
       "      <td>Baywatch</td>\n",
       "      <td>(2017)</td>\n",
       "      <td>5.5</td>\n",
       "      <td>37</td>\n",
       "      <td>152795</td>\n",
       "      <td>116 min</td>\n",
       "      <td>Action, Biography, Comedy</td>\n",
       "    </tr>\n",
       "    <tr>\n",
       "      <th>3023</th>\n",
       "      <td>American Made</td>\n",
       "      <td>(2017)</td>\n",
       "      <td>7.1</td>\n",
       "      <td>65</td>\n",
       "      <td>149603</td>\n",
       "      <td>115 min</td>\n",
       "      <td>Action, Biography, Comedy</td>\n",
       "    </tr>\n",
       "  </tbody>\n",
       "</table>\n",
       "<p>3024 rows × 7 columns</p>\n",
       "</div>"
      ],
      "text/plain": [
       "                                            Movie        Year  IMDB  \\\n",
       "0                                           Logan      (2017)   8.1   \n",
       "1                                  Thor: Ragnarok      (2017)   7.9   \n",
       "2                  Guardians of the Galaxy Vol. 2      (2017)   7.6   \n",
       "3         Star Wars: Episode VIII - The Last Jedi      (2017)   7.0   \n",
       "4                                    Wonder Woman      (2017)   7.4   \n",
       "...                                           ...         ...   ...   \n",
       "3019                                       Bright  (I) (2017)   6.3   \n",
       "3020                                 Darkest Hour      (2017)   7.4   \n",
       "3021  Valerian and the City of a Thousand Planets      (2017)   6.5   \n",
       "3022                                     Baywatch      (2017)   5.5   \n",
       "3023                                American Made      (2017)   7.1   \n",
       "\n",
       "      Metascore    Vote  Runtime                      Genre  \n",
       "0            77  614375  137 min  Action, Biography, Comedy  \n",
       "1            74  550032  130 min  Action, Biography, Comedy  \n",
       "2            67  538218  136 min  Action, Biography, Comedy  \n",
       "3            84  537284  152 min  Action, Biography, Comedy  \n",
       "4            76  526497  141 min  Action, Biography, Comedy  \n",
       "...         ...     ...      ...                        ...  \n",
       "3019         29  161128  117 min  Action, Biography, Comedy  \n",
       "3020         75  159763  125 min  Action, Biography, Comedy  \n",
       "3021         51  154420  137 min  Action, Biography, Comedy  \n",
       "3022         37  152795  116 min  Action, Biography, Comedy  \n",
       "3023         65  149603  115 min  Action, Biography, Comedy  \n",
       "\n",
       "[3024 rows x 7 columns]"
      ]
     },
     "execution_count": 290,
     "metadata": {},
     "output_type": "execute_result"
    }
   ],
   "source": [
    "test_df = pd.DataFrame({'Movie':names, 'Year': years, 'IMDB': imdb_ratings, 'Metascore': metascores, 'Vote':votes, 'Runtime' : runtimes, 'Genre':genre})\n",
    "test_df"
   ]
  },
  {
   "cell_type": "code",
   "execution_count": 291,
   "metadata": {},
   "outputs": [
    {
     "data": {
      "text/html": [
       "<div>\n",
       "<style scoped>\n",
       "    .dataframe tbody tr th:only-of-type {\n",
       "        vertical-align: middle;\n",
       "    }\n",
       "\n",
       "    .dataframe tbody tr th {\n",
       "        vertical-align: top;\n",
       "    }\n",
       "\n",
       "    .dataframe thead th {\n",
       "        text-align: right;\n",
       "    }\n",
       "</style>\n",
       "<table border=\"1\" class=\"dataframe\">\n",
       "  <thead>\n",
       "    <tr style=\"text-align: right;\">\n",
       "      <th></th>\n",
       "      <th>Movie</th>\n",
       "      <th>Year</th>\n",
       "      <th>IMDB</th>\n",
       "      <th>Metascore</th>\n",
       "      <th>Vote</th>\n",
       "      <th>Runtime</th>\n",
       "      <th>Genre</th>\n",
       "    </tr>\n",
       "  </thead>\n",
       "  <tbody>\n",
       "    <tr>\n",
       "      <th>3019</th>\n",
       "      <td>Bright</td>\n",
       "      <td>(I) (2017)</td>\n",
       "      <td>6.3</td>\n",
       "      <td>29</td>\n",
       "      <td>161128</td>\n",
       "      <td>117 min</td>\n",
       "      <td>Action, Biography, Comedy</td>\n",
       "    </tr>\n",
       "    <tr>\n",
       "      <th>3020</th>\n",
       "      <td>Darkest Hour</td>\n",
       "      <td>(2017)</td>\n",
       "      <td>7.4</td>\n",
       "      <td>75</td>\n",
       "      <td>159763</td>\n",
       "      <td>125 min</td>\n",
       "      <td>Action, Biography, Comedy</td>\n",
       "    </tr>\n",
       "    <tr>\n",
       "      <th>3021</th>\n",
       "      <td>Valerian and the City of a Thousand Planets</td>\n",
       "      <td>(2017)</td>\n",
       "      <td>6.5</td>\n",
       "      <td>51</td>\n",
       "      <td>154420</td>\n",
       "      <td>137 min</td>\n",
       "      <td>Action, Biography, Comedy</td>\n",
       "    </tr>\n",
       "    <tr>\n",
       "      <th>3022</th>\n",
       "      <td>Baywatch</td>\n",
       "      <td>(2017)</td>\n",
       "      <td>5.5</td>\n",
       "      <td>37</td>\n",
       "      <td>152795</td>\n",
       "      <td>116 min</td>\n",
       "      <td>Action, Biography, Comedy</td>\n",
       "    </tr>\n",
       "    <tr>\n",
       "      <th>3023</th>\n",
       "      <td>American Made</td>\n",
       "      <td>(2017)</td>\n",
       "      <td>7.1</td>\n",
       "      <td>65</td>\n",
       "      <td>149603</td>\n",
       "      <td>115 min</td>\n",
       "      <td>Action, Biography, Comedy</td>\n",
       "    </tr>\n",
       "  </tbody>\n",
       "</table>\n",
       "</div>"
      ],
      "text/plain": [
       "                                            Movie        Year  IMDB  \\\n",
       "3019                                       Bright  (I) (2017)   6.3   \n",
       "3020                                 Darkest Hour      (2017)   7.4   \n",
       "3021  Valerian and the City of a Thousand Planets      (2017)   6.5   \n",
       "3022                                     Baywatch      (2017)   5.5   \n",
       "3023                                American Made      (2017)   7.1   \n",
       "\n",
       "      Metascore    Vote  Runtime                      Genre  \n",
       "3019         29  161128  117 min  Action, Biography, Comedy  \n",
       "3020         75  159763  125 min  Action, Biography, Comedy  \n",
       "3021         51  154420  137 min  Action, Biography, Comedy  \n",
       "3022         37  152795  116 min  Action, Biography, Comedy  \n",
       "3023         65  149603  115 min  Action, Biography, Comedy  "
      ]
     },
     "execution_count": 291,
     "metadata": {},
     "output_type": "execute_result"
    }
   ],
   "source": [
    "test_df = test_df[['Movie', 'Year', 'IMDB', 'Metascore', 'Vote', 'Runtime', 'Genre']]\n",
    "test_df.tail()"
   ]
  },
  {
   "cell_type": "markdown",
   "metadata": {},
   "source": [
    "## Cleaning Year column to remove extra characters"
   ]
  },
  {
   "cell_type": "code",
   "execution_count": 292,
   "metadata": {},
   "outputs": [],
   "source": [
    "test_df.loc[:, 'Year'] = test_df['Year'].str[-5:-1].astype(int)"
   ]
  },
  {
   "cell_type": "code",
   "execution_count": 293,
   "metadata": {},
   "outputs": [
    {
     "data": {
      "text/html": [
       "<div>\n",
       "<style scoped>\n",
       "    .dataframe tbody tr th:only-of-type {\n",
       "        vertical-align: middle;\n",
       "    }\n",
       "\n",
       "    .dataframe tbody tr th {\n",
       "        vertical-align: top;\n",
       "    }\n",
       "\n",
       "    .dataframe thead th {\n",
       "        text-align: right;\n",
       "    }\n",
       "</style>\n",
       "<table border=\"1\" class=\"dataframe\">\n",
       "  <thead>\n",
       "    <tr style=\"text-align: right;\">\n",
       "      <th></th>\n",
       "      <th>Movie</th>\n",
       "      <th>Year</th>\n",
       "      <th>IMDB</th>\n",
       "      <th>Metascore</th>\n",
       "      <th>Vote</th>\n",
       "      <th>Runtime</th>\n",
       "      <th>Genre</th>\n",
       "    </tr>\n",
       "  </thead>\n",
       "  <tbody>\n",
       "    <tr>\n",
       "      <th>0</th>\n",
       "      <td>Logan</td>\n",
       "      <td>2017</td>\n",
       "      <td>8.1</td>\n",
       "      <td>77</td>\n",
       "      <td>614375</td>\n",
       "      <td>137 min</td>\n",
       "      <td>Action, Biography, Comedy</td>\n",
       "    </tr>\n",
       "    <tr>\n",
       "      <th>1</th>\n",
       "      <td>Thor: Ragnarok</td>\n",
       "      <td>2017</td>\n",
       "      <td>7.9</td>\n",
       "      <td>74</td>\n",
       "      <td>550032</td>\n",
       "      <td>130 min</td>\n",
       "      <td>Action, Biography, Comedy</td>\n",
       "    </tr>\n",
       "    <tr>\n",
       "      <th>2</th>\n",
       "      <td>Guardians of the Galaxy Vol. 2</td>\n",
       "      <td>2017</td>\n",
       "      <td>7.6</td>\n",
       "      <td>67</td>\n",
       "      <td>538218</td>\n",
       "      <td>136 min</td>\n",
       "      <td>Action, Biography, Comedy</td>\n",
       "    </tr>\n",
       "    <tr>\n",
       "      <th>3</th>\n",
       "      <td>Star Wars: Episode VIII - The Last Jedi</td>\n",
       "      <td>2017</td>\n",
       "      <td>7.0</td>\n",
       "      <td>84</td>\n",
       "      <td>537284</td>\n",
       "      <td>152 min</td>\n",
       "      <td>Action, Biography, Comedy</td>\n",
       "    </tr>\n",
       "    <tr>\n",
       "      <th>4</th>\n",
       "      <td>Wonder Woman</td>\n",
       "      <td>2017</td>\n",
       "      <td>7.4</td>\n",
       "      <td>76</td>\n",
       "      <td>526497</td>\n",
       "      <td>141 min</td>\n",
       "      <td>Action, Biography, Comedy</td>\n",
       "    </tr>\n",
       "  </tbody>\n",
       "</table>\n",
       "</div>"
      ],
      "text/plain": [
       "                                     Movie  Year  IMDB  Metascore    Vote  \\\n",
       "0                                    Logan  2017   8.1         77  614375   \n",
       "1                           Thor: Ragnarok  2017   7.9         74  550032   \n",
       "2           Guardians of the Galaxy Vol. 2  2017   7.6         67  538218   \n",
       "3  Star Wars: Episode VIII - The Last Jedi  2017   7.0         84  537284   \n",
       "4                             Wonder Woman  2017   7.4         76  526497   \n",
       "\n",
       "   Runtime                      Genre  \n",
       "0  137 min  Action, Biography, Comedy  \n",
       "1  130 min  Action, Biography, Comedy  \n",
       "2  136 min  Action, Biography, Comedy  \n",
       "3  152 min  Action, Biography, Comedy  \n",
       "4  141 min  Action, Biography, Comedy  "
      ]
     },
     "execution_count": 293,
     "metadata": {},
     "output_type": "execute_result"
    }
   ],
   "source": [
    "test_df.head(5)"
   ]
  },
  {
   "cell_type": "markdown",
   "metadata": {},
   "source": [
    "## Writing Data to CSV"
   ]
  },
  {
   "cell_type": "code",
   "execution_count": 211,
   "metadata": {},
   "outputs": [],
   "source": [
    "test_df.to_csv('movie_rating.csv')"
   ]
  },
  {
   "cell_type": "code",
   "execution_count": null,
   "metadata": {},
   "outputs": [],
   "source": []
  }
 ],
 "metadata": {
  "kernelspec": {
   "display_name": "Python 3",
   "language": "python",
   "name": "python3"
  },
  "language_info": {
   "codemirror_mode": {
    "name": "ipython",
    "version": 3
   },
   "file_extension": ".py",
   "mimetype": "text/x-python",
   "name": "python",
   "nbconvert_exporter": "python",
   "pygments_lexer": "ipython3",
   "version": "3.7.1"
  }
 },
 "nbformat": 4,
 "nbformat_minor": 2
}
